{
 "cells": [
  {
   "cell_type": "markdown",
   "metadata": {},
   "source": [
    "---\n",
    "# Which Youtube Path To Take"
   ]
  },
  {
   "cell_type": "markdown",
   "metadata": {},
   "source": [
    "## Introduction\n",
    "\n",
    "Youtube is the biggest online video platform in the world. As of 2020, Youtube had an estimated 2.3 billion monthly active users. Expectedly so, the platform has generated tons of valuable data. \n",
    "\n",
    "The conclusions drawn from this data can be used to, not only give aspiring Youtubers a guided path to success, but can also give businesses and sponsors a promising insight to all those potential juicy ad-viewers.\n"
   ]
  },
  {
   "cell_type": "markdown",
   "metadata": {},
   "source": [
    "## Objective\n",
    "\n",
    "We will be showcasing several visualizations that will give us insight into several factors for \"Youtube success\" and what it means to be a successful youtuber. Those factors will show ad agencies which channels to input there advertisements in, and which type of youtubers are worth making sponsorship partnerships with. \n",
    "\n",
    "Several of the factors are:\n",
    "\n",
    "* Views vs Likes and/ Dislikes\n",
    "* Views per Categories\n",
    "* Average Time to go viral"
   ]
  },
  {
   "cell_type": "markdown",
   "metadata": {},
   "source": [
    "## Data\n",
    "\n",
    "The data that is being used is from a dataset hosted on [Kaggle](https://www.kaggle.com/datasnaek/youtube-new) that includes the top trending videos across several years. To determine what constitutes as _trending_ Youtube, uses the factors in the dataset. To draw our conclusions, we are using this cleaned version of [another dataset](https://www.kaggle.com/datasnaek/youtube).\n",
    "\n",
    "Our dataset contains information of the top 40880 videos on the Youtube platform from 2008-2018. Many of the metrics such as views or published date, are values that can be found on the url of a Youtube video. \n",
    "\n",
    "\n",
    "We also have altered or added several metrics that we think might be valuable:\n",
    "\n",
    "        - Category Name\n",
    "        - Times (Trending Dates, Publish Times)\n",
    "        - Published Month\n",
    "        - Trending Month \n",
    "        \n",
    "\n"
   ]
  },
  {
   "cell_type": "markdown",
   "metadata": {},
   "source": [
    "Original CVS file             |  New Json added\n",
    ":-------------------------:|:-------------------------:\n",
    "![Imgur](https://i.imgur.com/6sODTnr.jpg) | ![Imgur](https://i.imgur.com/H9Cyj3J.jpg)"
   ]
  },
  {
   "cell_type": "markdown",
   "metadata": {},
   "source": [
    "## Exploratory Data Analysis (EDA)"
   ]
  },
  {
   "cell_type": "markdown",
   "metadata": {},
   "source": [
    "### Indiviual Video Metrics"
   ]
  },
  {
   "cell_type": "markdown",
   "metadata": {},
   "source": [
    "#### Views , Likes, Dislikes"
   ]
  },
  {
   "cell_type": "markdown",
   "metadata": {},
   "source": [
    "Obviously, we would want more likes than dislikes while maximizing view count. There are some stragglers though."
   ]
  },
  {
   "cell_type": "markdown",
   "metadata": {},
   "source": [
    "#### Canada"
   ]
  },
  {
   "cell_type": "markdown",
   "metadata": {},
   "source": [
    "![Imgur](https://i.imgur.com/TL8HlgG.png)"
   ]
  },
  {
   "cell_type": "markdown",
   "metadata": {},
   "source": [
    "#### USA"
   ]
  },
  {
   "cell_type": "markdown",
   "metadata": {},
   "source": [
    "![Imgur](https://i.imgur.com/recyJeg.png)"
   ]
  },
  {
   "cell_type": "markdown",
   "metadata": {},
   "source": [
    "## Macroscopic View"
   ]
  },
  {
   "cell_type": "markdown",
   "metadata": {},
   "source": [
    "### Virality"
   ]
  },
  {
   "cell_type": "markdown",
   "metadata": {},
   "source": [
    "There is a time frame to achieve trendy before you should give up on your current video and lower expectations."
   ]
  },
  {
   "cell_type": "markdown",
   "metadata": {},
   "source": [
    "![Imgur](https://i.imgur.com/opu6YrE.jpg)"
   ]
  },
  {
   "cell_type": "markdown",
   "metadata": {},
   "source": [
    "### Promising Categories"
   ]
  },
  {
   "cell_type": "markdown",
   "metadata": {},
   "source": [
    "#### Canada"
   ]
  },
  {
   "cell_type": "markdown",
   "metadata": {},
   "source": [
    "![Imgur](https://i.imgur.com/wz5XhoW.png)"
   ]
  },
  {
   "cell_type": "markdown",
   "metadata": {},
   "source": [
    "#### USA\n",
    "\n",
    "Notice any difference?"
   ]
  },
  {
   "cell_type": "markdown",
   "metadata": {},
   "source": [
    "![Imgur](https://i.imgur.com/kjm6Xzv.png)"
   ]
  },
  {
   "cell_type": "markdown",
   "metadata": {},
   "source": [
    "#### More Countries\n",
    "\n"
   ]
  },
  {
   "cell_type": "markdown",
   "metadata": {},
   "source": [
    "![Imgur](https://i.imgur.com/QA5suLJ.png)"
   ]
  },
  {
   "cell_type": "markdown",
   "metadata": {},
   "source": [
    "## Conclusion\n",
    "\n",
    "We can obviously see that the sweet-spot for Views-Likes-Dislikes lies in the area which minimizes the amount of Dislikes while maximizing Likes as View count climbs. However to be trendy, at a certain amount of views the amount of Dislikes does not matter.\n",
    "\n",
    "Entertainment and Music are not surprisingly the category with the highest amount of trending videos so businesses should target those categories for ads and product placement. People and Blogs are top four so it would be very lucrative to sponsor those channels. To advertisers, investing product placement in YoutubeTV or Youtube's exclusive movies is definitely not advised."
   ]
  },
  {
   "cell_type": "markdown",
   "metadata": {},
   "source": [
    "## Going further..."
   ]
  }
 ],
 "metadata": {
  "hide_input": false,
  "kernelspec": {
   "display_name": "Python 3",
   "language": "python",
   "name": "python3"
  },
  "language_info": {
   "codemirror_mode": {
    "name": "ipython",
    "version": 3
   },
   "file_extension": ".py",
   "mimetype": "text/x-python",
   "name": "python",
   "nbconvert_exporter": "python",
   "pygments_lexer": "ipython3",
   "version": "3.8.5"
  },
  "toc": {
   "base_numbering": 1,
   "nav_menu": {},
   "number_sections": true,
   "sideBar": true,
   "skip_h1_title": false,
   "title_cell": "Table of Contents",
   "title_sidebar": "Contents",
   "toc_cell": false,
   "toc_position": {},
   "toc_section_display": true,
   "toc_window_display": false
  },
  "varInspector": {
   "cols": {
    "lenName": 16,
    "lenType": 16,
    "lenVar": 40
   },
   "kernels_config": {
    "python": {
     "delete_cmd_postfix": "",
     "delete_cmd_prefix": "del ",
     "library": "var_list.py",
     "varRefreshCmd": "print(var_dic_list())"
    },
    "r": {
     "delete_cmd_postfix": ") ",
     "delete_cmd_prefix": "rm(",
     "library": "var_list.r",
     "varRefreshCmd": "cat(var_dic_list()) "
    }
   },
   "types_to_exclude": [
    "module",
    "function",
    "builtin_function_or_method",
    "instance",
    "_Feature"
   ],
   "window_display": false
  }
 },
 "nbformat": 4,
 "nbformat_minor": 4
}
